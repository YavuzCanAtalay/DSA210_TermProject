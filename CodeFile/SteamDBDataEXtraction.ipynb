{
  "nbformat": 4,
  "nbformat_minor": 0,
  "metadata": {
    "colab": {
      "provenance": [],
      "authorship_tag": "ABX9TyPzpr7TiXeE/xgj4RIzU3hV",
      "include_colab_link": true
    },
    "kernelspec": {
      "name": "python3",
      "display_name": "Python 3"
    },
    "language_info": {
      "name": "python"
    }
  },
  "cells": [
    {
      "cell_type": "markdown",
      "metadata": {
        "id": "view-in-github",
        "colab_type": "text"
      },
      "source": [
        "<a href=\"https://colab.research.google.com/github/YavuzCanAtalay/DSA210_TermProject/blob/main/CodeFile/SteamDBDataEXtraction.ipynb\" target=\"_parent\"><img src=\"https://colab.research.google.com/assets/colab-badge.svg\" alt=\"Open In Colab\"/></a>"
      ]
    },
    {
      "cell_type": "code",
      "execution_count": 1,
      "metadata": {
        "id": "O9kEpRiEmuyU",
        "colab": {
          "base_uri": "https://localhost:8080/"
        },
        "outputId": "5ed2d751-f442-445b-9270-90c482adca8b"
      },
      "outputs": [
        {
          "output_type": "stream",
          "name": "stdout",
          "text": [
            "\n",
            "Game Ratings:\n",
            "1. Tom Clancy's Ghost Recon® Wildlands: 78.76%\n",
            "2. A Way Out: 86.04%\n",
            "3. Europa Universalis IV: 86.10%\n",
            "4. Grand Theft Auto V: 86.58%\n",
            "5. For Honor: 68.90%\n",
            "6. Esports Life Tycoon: 59.70%\n",
            "7. Tom Clancy's Rainbow Six Siege: 84.01%\n",
            "8. Deep Rock Galactic: 96.15%\n",
            "9. Dead by Daylight: 79.86%\n",
            "10. Subnautica: 95.87%\n",
            "11. NARUTO SHIPPUDEN: Ultimate Ninja STORM 4: 89.56%\n",
            "12. The Wandering Village: 87.68%\n",
            "13. Risk of Rain 2: 92.33%\n",
            "14. The Forest: 94.66%\n",
            "15. This War of Mine: 91.59%\n",
            "16. Goat Simulator: 89.30%\n",
            "17. PAYDAY 2: 88.85%\n",
            "18. Slime Rancher: 96.54%\n",
            "19. Hearts of Iron IV: 90.04%\n",
            "20. Hades: 97.18%\n",
            "21. Pummel Party: 87.31%\n",
            "22. Plague Inc: Evolved: 92.80%\n",
            "23. SpeedRunners: 92.07%\n",
            "24. Castle Crashers: 94.78%\n",
            "25. Duck Game: 94.65%\n",
            "26. Don't Starve Together: 94.72%\n",
            "27. Lethal Company: 96.33%\n",
            "28. 60 Seconds! Reatomized: 91.72%\n",
            "29. Project Winter: 81.07%\n",
            "30. 60 Parsecs!: 84.83%\n",
            "31. Left 4 Dead 2: 96.74%\n",
            "32. ASTRONEER: 90.87%\n",
            "33. Content Warning: 93.08%\n",
            "34. PlateUp!: 92.96%\n",
            "35. Chained Together: 87.22%\n",
            "36. ROUNDS: 93.17%\n",
            "37. Geometry Dash: 92.54%\n",
            "38. Stick Fight: The Game: 92.31%\n",
            "39. Among Us: 91.08%\n",
            "40. Feign: 87.27%\n",
            "41. Unforgiving Trials: The Space Crusade: 60.82%\n",
            "42. Overwatch® 2: 21.92%\n",
            "43. Trackmania: 74.27%\n",
            "44. Once Human: 71.31%\n",
            "45. The First Descendant: 54.96%\n",
            "46. Dark and Darker: 70.09%\n",
            "47. Goose Goose Duck: 85.67%\n",
            "48. NARAKA: BLADEPOINT: 69.62%\n",
            "49. Apex Legends: 67.37%\n",
            "50. RISK: Global Domination: 79.10%\n",
            "51. Fall Guys: 80.67%\n",
            "52. Destiny 2: 79.50%\n",
            "53. NBA 2K19: 39.58%\n",
            "54. Albion Online: 78.08%\n",
            "55. Aimlabs: 91.69%\n",
            "56. PUBG: BATTLEGROUNDS: 58.80%\n",
            "57. NBA 2K18: 30.18%\n",
            "58. Catan Universe: 48.68%\n",
            "59. Business Tour - Online Multiplayer Board Game: 60.34%\n",
            "60. Knight Online: 50.16%\n",
            "61. Unturned: 90.70%\n",
            "62. Trove: 79.36%\n",
            "63. Brawlhalla: 81.27%\n",
            "64. Warface: Clutch: 65.92%\n",
            "65. Rocket League: 86.89%\n",
            "66. Ace of Spades: 64.42%\n",
            "67. Counter-Strike 2: 86.63%\n",
            "68. Dota 2: 81.19%\n",
            "69. Team Fortress 2: 88.02%\n",
            "70. For Honor - Public Test: -\n",
            "71. Tom Clancy's Rainbow Six Siege - Test Server: -\n"
          ]
        }
      ],
      "source": [
        "import pandas as pd\n",
        "\n",
        "# Extract and display ratings of each game\n",
        "print(\"\\nGame Ratings:\")\n",
        "game_ratings_url = \"https://raw.githubusercontent.com/YavuzCanAtalay/DSA210_TermProject/refs/heads/main/DataFile/SteamDBGameDataRAW.csv\"\n",
        "game_ratings_df = pd.read_csv(game_ratings_url)\n",
        "for index, row in game_ratings_df.iterrows():\n",
        "    game_number = index + 1\n",
        "    game_name = row['Name']\n",
        "    rating = row['rating']\n",
        "    print(f\"{game_number}. {game_name}: {rating}\")\n"
      ]
    }
  ]
}